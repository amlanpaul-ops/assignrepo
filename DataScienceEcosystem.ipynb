{
 "cells": [
  {
   "cell_type": "markdown",
   "id": "fe965bf1-328a-4ccf-889f-a80fdaa5f19a",
   "metadata": {},
   "source": [
    "# Data Science Tools and Ecosystem"
   ]
  },
  {
   "cell_type": "markdown",
   "id": "43a7898d-84ee-4fe5-8352-07af67ecd846",
   "metadata": {},
   "source": [
    "In this notebook, Data Science Tools and Ecosystem are summarized"
   ]
  },
  {
   "cell_type": "markdown",
   "id": "e0b577c9-a62a-47cf-ba7f-1d9f850ceec8",
   "metadata": {},
   "source": [
    "__Objectives__\n",
    "\n",
    "- List popular languages for Data Science\n",
    "- List Data Science Libraries\n",
    "- Table of Data Science Tools"
   ]
  },
  {
   "cell_type": "markdown",
   "id": "98ff9fd1-4784-4b58-9a9c-af0a450a0a20",
   "metadata": {},
   "source": [
    "Some of the popular languages that Data Scientists use are:\n",
    "1. Python\n",
    "2. R\n",
    "3. SQL"
   ]
  },
  {
   "cell_type": "markdown",
   "id": "b26d808b-f121-4583-b9b2-a1a9fcdedac0",
   "metadata": {},
   "source": [
    "Some of the commonly used libraries used by Data Scientists include:\n",
    "1. Tensorflow\n",
    "2. NumPy\n",
    "3. SciPy\n",
    "4. Pandas"
   ]
  },
  {
   "cell_type": "markdown",
   "id": "06fdf5eb-32d8-4852-833c-8573e8f3280c",
   "metadata": {},
   "source": [
    "Data Science Tools\n",
    "------------------\n",
    "Apache Hadoop\n",
    "\n",
    "Apache Spark\n",
    "\n",
    "Apache Flink\n"
   ]
  },
  {
   "cell_type": "markdown",
   "id": "16c0299a-5cce-4b88-ba6f-87e853cc77ec",
   "metadata": {},
   "source": [
    "### Below are a few examples of evaluating arithmetic expressions in Python"
   ]
  },
  {
   "cell_type": "code",
   "execution_count": 2,
   "id": "45129204-09b5-4807-9f34-5a5f95488a77",
   "metadata": {},
   "outputs": [
    {
     "data": {
      "text/plain": [
       "17"
      ]
     },
     "execution_count": 2,
     "metadata": {},
     "output_type": "execute_result"
    }
   ],
   "source": [
    "# This is a simple arithmetic expression to multiply then add integers\n",
    "(3*4)+5"
   ]
  },
  {
   "cell_type": "code",
   "execution_count": 8,
   "id": "5b239ce3-8996-4790-80c6-f60aa51461a0",
   "metadata": {},
   "outputs": [
    {
     "data": {
      "text/plain": [
       "3.3333333333333335"
      ]
     },
     "execution_count": 8,
     "metadata": {},
     "output_type": "execute_result"
    }
   ],
   "source": [
    "# This will convert 200 minutes to hours by dividing by 60\n",
    "200/60\n"
   ]
  },
  {
   "cell_type": "markdown",
   "id": "4c589395-a35a-42a3-b29b-88b6edb6aae8",
   "metadata": {},
   "source": [
    "## Author\n",
    "Amlan Paul"
   ]
  },
  {
   "cell_type": "code",
   "execution_count": null,
   "id": "42da3a7b-fa63-405e-b4eb-56d845e4fdd1",
   "metadata": {},
   "outputs": [],
   "source": []
  }
 ],
 "metadata": {
  "kernelspec": {
   "display_name": "Python 3 (ipykernel)",
   "language": "python",
   "name": "python3"
  },
  "language_info": {
   "codemirror_mode": {
    "name": "ipython",
    "version": 3
   },
   "file_extension": ".py",
   "mimetype": "text/x-python",
   "name": "python",
   "nbconvert_exporter": "python",
   "pygments_lexer": "ipython3",
   "version": "3.11.9"
  }
 },
 "nbformat": 4,
 "nbformat_minor": 5
}
