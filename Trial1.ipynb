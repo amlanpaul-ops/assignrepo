{
 "cells": [
  {
   "cell_type": "markdown",
   "id": "4b5fdc20-8c9a-4a28-88c1-c23fb122b80d",
   "metadata": {},
   "source": [
    "# Trial Run"
   ]
  },
  {
   "cell_type": "code",
   "execution_count": 1,
   "id": "ba7661bf-e293-43f3-88a5-14d734ccb568",
   "metadata": {},
   "outputs": [
    {
     "data": {
      "text/plain": [
       "5"
      ]
     },
     "execution_count": 1,
     "metadata": {},
     "output_type": "execute_result"
    }
   ],
   "source": [
    "3+2"
   ]
  },
  {
   "cell_type": "code",
   "execution_count": null,
   "id": "cef7fcfd-0752-40ee-b864-0575ec6519b3",
   "metadata": {},
   "outputs": [],
   "source": []
  }
 ],
 "metadata": {
  "kernelspec": {
   "display_name": "Python 3 (ipykernel)",
   "language": "python",
   "name": "python3"
  },
  "language_info": {
   "codemirror_mode": {
    "name": "ipython",
    "version": 3
   },
   "file_extension": ".py",
   "mimetype": "text/x-python",
   "name": "python",
   "nbconvert_exporter": "python",
   "pygments_lexer": "ipython3",
   "version": "3.11.9"
  }
 },
 "nbformat": 4,
 "nbformat_minor": 5
}
